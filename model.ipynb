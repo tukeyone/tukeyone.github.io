{
 "cells": [
  {
   "cell_type": "code",
   "execution_count": 1,
   "metadata": {},
   "outputs": [],
   "source": [
    "\n",
    "%matplotlib inline\n",
    "import numpy as np\n",
    "import pandas as pd\n",
    "import datetime  \n",
    "import warnings\n",
    "import missingno as msno"
   ]
  },
  {
   "cell_type": "code",
   "execution_count": 2,
   "metadata": {},
   "outputs": [],
   "source": [
    "path_train = \"./data/cs-training.csv\"  # 训练文件\n",
    "path_test = \"./data/cs-test.csv\"  # 测试文件\n",
    "\n",
    "df = pd.read_csv(path_train,index_col='Unnamed: 0')"
   ]
  },
  {
   "cell_type": "code",
   "execution_count": null,
   "metadata": {},
   "outputs": [],
   "source": [
    "# msno.matrix(df)"
   ]
  },
  {
   "cell_type": "code",
   "execution_count": null,
   "metadata": {},
   "outputs": [],
   "source": [
    "# 均值填充\n",
    "for i in df.columns:\n",
    "    df[i].fillna(np.mean(df[i]),inplace=True)\n",
    "\n",
    "# df[i].fillna(np.mean(df[i]),inplace=True)\n",
    "\n",
    "# 盖帽法\n",
    "for i in df.columns:\n",
    "     df[i] = cap(df[i],quantile=[0.05,0.95])\n",
    "\n",
    "# df[i] = cap(df[i],quantile=[0.05,0.95])\n",
    "\n",
    "df['sample_weight'] = df['SeriousDlqin2yrs'].map(lambda x:0.8 if x==1 else 0.2)\n",
    "data_train = df\n",
    "from sklearn.model_selection import train_test_split\n",
    "X = data_train.iloc[:, 1:-1]\n",
    "y = data_train.iloc[:, 0]\n",
    "\n",
    "X_train, X_val, y_train, y_val = train_test_split(X, y, test_size=0.3, random_state=8)\n",
    "\n",
    "# df_train = pd.concat([y_train, X_train], axis=1)\n",
    "# df_val = pd.concat([y_val, X_val], axis=1)"
   ]
  },
  {
   "cell_type": "code",
   "execution_count": 149,
   "metadata": {},
   "outputs": [],
   "source": [
    "# msno.matrix(df)"
   ]
  },
  {
   "cell_type": "code",
   "execution_count": 258,
   "metadata": {},
   "outputs": [],
   "source": [
    "# df['SeriousDlqin2yrs']"
   ]
  },
  {
   "cell_type": "code",
   "execution_count": 263,
   "metadata": {},
   "outputs": [],
   "source": [
    "# # 设置样本权重\n",
    "# data['temp_label'] = data['score']\n",
    "# # 这里设置为None 而不是删除该数据，因为删除的话，线下一定是提升的，对于线上而言，异常数据依旧存在，所以应该关注在训练集无异常，而测试集有异常下的处理效果\n",
    "# data['sample_weight'] = data['temp_label'] + 200\n",
    "# data['sample_weight'] = data['sample_weight'] / data['sample_weight'].mean()\n",
    "# # 方案1 ，不训练\n",
    "# data.loc[data.id.isin(ab_id), 'temp_label'] = None\n",
    "# # 方案2，样本权重设置低一点\n",
    "# data.loc[data.id.isin(ab_id), 'sample_weight'] = 0.01\n"
   ]
  },
  {
   "cell_type": "markdown",
   "metadata": {},
   "source": [
    "案例"
   ]
  },
  {
   "cell_type": "code",
   "execution_count": 3,
   "metadata": {},
   "outputs": [],
   "source": [
    "def cap(x,quantile=[0.01,0.99]):\n",
    "    \"\"\"盖帽法处理异常值\n",
    "    Args：\n",
    "        x：pd.Series列，连续变量\n",
    "        quantile：指定盖帽法的上下分位数范围\n",
    "    \"\"\"\n",
    "\n",
    "# 生成分位数\n",
    "    Q01,Q99=x.quantile(quantile).values.tolist()\n",
    "\n",
    "# 替换异常值为指定的分位数\n",
    "    if Q01 > x.min():\n",
    "        x = x.copy()\n",
    "        x.loc[x<Q01] = Q01\n",
    "\n",
    "    if Q99 < x.max():\n",
    "        x = x.copy()\n",
    "        x.loc[x>Q99] = Q99\n",
    "\n",
    "    return(x)"
   ]
  },
  {
   "cell_type": "code",
   "execution_count": 4,
   "metadata": {},
   "outputs": [],
   "source": [
    "def prod_trian_data(path_train):\n",
    "    \"\"\"\n",
    "    处理训练数据集\n",
    "    :return: \n",
    "    \"\"\"\n",
    "    df = pd.read_csv(path_train,index_col='Unnamed: 0')\n",
    "\n",
    "\n",
    "    # 均值填充\n",
    "    for i in df.columns:\n",
    "        df[i].fillna(np.mean(df[i]),inplace=True)\n",
    "\n",
    "    # df[i].fillna(np.mean(df[i]),inplace=True)\n",
    "\n",
    "    # 盖帽法\n",
    "    for i in df.columns:\n",
    "         df[i] = cap(df[i],quantile=[0.05,0.95])\n",
    "\n",
    "    # df[i] = cap(df[i],quantile=[0.05,0.95])\n",
    "\n",
    "    data_train = df\n",
    "    from sklearn.model_selection import train_test_split\n",
    "    X = data_train.iloc[:, 1:]\n",
    "    y = data_train.iloc[:, 0]\n",
    "\n",
    "    X_train, X_val, y_train, y_val = train_test_split(X, y, test_size=0.3, random_state=8)\n",
    "\n",
    "#     df_train = pd.concat([y_train, X_train], axis=1)\n",
    "#     df_val = pd.concat([y_val, X_val], axis=1)\n",
    "    return X_train, X_val, y_train, y_val,data_train"
   ]
  },
  {
   "cell_type": "code",
   "execution_count": 5,
   "metadata": {},
   "outputs": [],
   "source": [
    "def prod_test_data(path_test):\n",
    "\n",
    "    \"\"\"\n",
    "    处理测试集\n",
    "    :return: \n",
    "    \"\"\"\n",
    "    df = pd.read_csv(path_test,index_col='Unnamed: 0')    \n",
    "    \n",
    "    # 均值填充\n",
    "    for i in df.columns:\n",
    "        df[i].fillna(np.mean(df[i]),inplace=True)\n",
    "\n",
    "    # df[i].fillna(np.mean(df[i]),inplace=True)\n",
    "\n",
    "    # 盖帽法\n",
    "    for i in df.columns:\n",
    "         df[i] = cap(df[i],quantile=[0.05,0.95])\n",
    "\n",
    "    # df[i] = cap(df[i],quantile=[0.05,0.95])\n",
    "\n",
    "\n",
    "    data_test = df    \n",
    "    X_test = data_test.iloc[:, 1:]\n",
    "    X_test_df_index = data_test.index\n",
    "    \n",
    "    return X_test,X_test_df_index,data_test "
   ]
  },
  {
   "cell_type": "code",
   "execution_count": 6,
   "metadata": {},
   "outputs": [],
   "source": [
    "def predict_model():\n",
    "    # 模型1:复赛0.08成绩代码改为全样本\n",
    "    from xgboost import XGBClassifier\n",
    "    xgbr = XGBClassifier()\n",
    "    xgbr.fit(X_train, y_train)\n",
    "    \n",
    "    \n",
    "#     from lightgbm import LGBMClassifier\n",
    "#     lgbr = LGBMClassifier() \n",
    "# #     lgbr1 = LGBMClassifier(learning_rate=0.01,reg_alpha=1,max_depth=6,min_child_weight=4) \n",
    "#     lgbr.fit(X_train, y_train)\n",
    "\n",
    "#     from catboost import CatBoostClassifier\n",
    "#     cgbr = CatBoostClassifier()\n",
    "#     cgbr = CatBoostRClassifier(iterations=250,depth=5,learning_rate=0.01,l2_leaf_reg=1)\n",
    "#     iterations=2, depth=2, learning_rate=1, loss_function='RMSE'\n",
    "#     cgbr.fit(X_train, y_train)\n",
    "\n",
    "# 模型评价\n",
    "    from sklearn.metrics import accuracy_score\n",
    "    from sklearn import metrics\n",
    "    from sklearn.metrics import confusion_matrix \n",
    "    y_pred = xgbr.predict(X_val)\n",
    "    print(metrics.f1_score(y_val, y_pred)) \n",
    "\n",
    "# 模型预测结果\n",
    "    Id_pred=pd.DataFrame()\n",
    "    Id_pred['CustomerID'] = X_test_df_index\n",
    "\n",
    "    Id_pred['pred_xgbr']=xgbr.predict(X_test)\n",
    "#     Id_pred['pred_lgbr']=lgbr.predict(X_test)\n",
    "    # Id_pred['pred_cgbr']=cgbr.predict(X_test)\n",
    "\n",
    "    \n",
    "# 结果融合\n",
    "    Id_pred['SeriousDlqin2yrs'] = Id_pred['pred_xgbr']\n",
    "    del Id_pred['pred_xgbr']\n",
    "#     Id_pred['SeriousDlqin2yrs']= 0.5*Id_pred['pred_xgbr']+ 0.5*Id_pred['pred_xgbr']\n",
    "#     del Id_pred['pred_xgbr'],Id_pred['pred_lgbr']\n",
    "    Id_pred.to_csv(\"./submit/张志祥_results_b.csv\",index=None)"
   ]
  },
  {
   "cell_type": "code",
   "execution_count": 7,
   "metadata": {},
   "outputs": [],
   "source": [
    "# if __name__ == \"__main__\":\n",
    "#     old_time=datetime.datetime.now()\n",
    "    \n",
    "#     path_train = \"./data/cs-training.csv\"  # 训练文件\n",
    "#     path_test = \"./data/cs-test.csv\"  # 测试文件\n",
    "    \n",
    "#     print(\"****************** start **********************\")\n",
    "\n",
    "#     X_train, X_val, y_train, y_val = prod_trian_data(path_train)#     训练集数据\n",
    "#     X_test,X_test_df_index = prod_test_data(path_test) #  测试集数据\n",
    "    \n",
    "#     predict_model()#模型训练输出结果\n",
    "    \n",
    "#     now_time=datetime.datetime.now()\n",
    "#     print(\"runtime\",(now_time-old_time).seconds,\"s\")#输出模型训练用时"
   ]
  },
  {
   "cell_type": "code",
   "execution_count": 8,
   "metadata": {},
   "outputs": [],
   "source": [
    "X_train, X_val, y_train, y_val,data_train  = prod_trian_data(path_train)#     训练集数据\n",
    "X_test,X_test_df_index,data_test  = prod_test_data(path_test) #  测试集数据"
   ]
  },
  {
   "cell_type": "markdown",
   "metadata": {},
   "source": [
    "描述性统计"
   ]
  },
  {
   "cell_type": "code",
   "execution_count": 9,
   "metadata": {},
   "outputs": [],
   "source": [
    "def get_df_train_describe(df,col_name):\n",
    "#     col_name = '训练集'\n",
    "    df_describe = df.describe().iloc[[1,3,4,5,6,7],1:]\n",
    "    df_describe.index = ['Mean ', 'Min.', '1st Qu.', 'Median', '3rd Qu.','Max. ']\n",
    "    df_describe_T = df_describe.loc[['Min.', '1st Qu.', 'Median', 'Mean ', '3rd Qu.','Max. '],:].T\n",
    "    df_describe_T['NA counts'] = df.iloc[:,1:].apply(lambda x:x.isnull().sum())\n",
    "\n",
    "    df_describe = df_describe_T.T\n",
    "    df_describe = df_describe.reset_index()\n",
    "    df_describe = df_describe.rename(columns={'index':col_name})\n",
    "    return df_describe"
   ]
  },
  {
   "cell_type": "code",
   "execution_count": 10,
   "metadata": {},
   "outputs": [],
   "source": [
    "# get_df_train_describe(data_train,'训练集')#.to_excel(\"./submit/张志祥_results_a_train.xlsx\",index=None)"
   ]
  },
  {
   "cell_type": "code",
   "execution_count": 11,
   "metadata": {},
   "outputs": [],
   "source": [
    "# get_df_train_describe(data_test,\"测试集\")#.to_excel(\"./submit/张志祥_results_a_test.xlsx\",index=None)"
   ]
  },
  {
   "cell_type": "code",
   "execution_count": 12,
   "metadata": {},
   "outputs": [],
   "source": [
    "# X_train['sample_weight'] = pd.DataFrame(y_train)['SeriousDlqin2yrs'].map(lambda x:0.8 if x==1 else 0.2)"
   ]
  },
  {
   "cell_type": "code",
   "execution_count": 13,
   "metadata": {},
   "outputs": [],
   "source": [
    "# X_train['sample_weight']"
   ]
  },
  {
   "cell_type": "code",
   "execution_count": 14,
   "metadata": {},
   "outputs": [],
   "source": [
    "# XGBClassifier?"
   ]
  },
  {
   "cell_type": "code",
   "execution_count": 15,
   "metadata": {},
   "outputs": [
    {
     "data": {
      "text/plain": [
       "0    139974\n",
       "1     10026\n",
       "Name: SeriousDlqin2yrs, dtype: int64"
      ]
     },
     "execution_count": 15,
     "metadata": {},
     "output_type": "execute_result"
    }
   ],
   "source": [
    "df['SeriousDlqin2yrs'].value_counts()"
   ]
  },
  {
   "cell_type": "code",
   "execution_count": 39,
   "metadata": {},
   "outputs": [
    {
     "name": "stdout",
     "output_type": "stream",
     "text": [
      "0.44002921840759673\n"
     ]
    },
    {
     "name": "stderr",
     "output_type": "stream",
     "text": [
      "D:\\Users\\DELL\\Anaconda3\\lib\\site-packages\\sklearn\\preprocessing\\label.py:151: DeprecationWarning: The truth value of an empty array is ambiguous. Returning False, but in future this will result in an error. Use `array.size > 0` to check that an array is not empty.\n",
      "  if diff:\n"
     ]
    }
   ],
   "source": [
    "# 模型\n",
    "from xgboost import XGBClassifier\n",
    "# class_weight = dict({0:14, 1:1})\n",
    "# sample_weight = pd.DataFrame(y_train)['SeriousDlqin2yrs'].map(lambda x:0.99 if x==1 else 0.01)\n",
    "# alpha\n",
    "#     L1正则化系数，默认为1\n",
    "# lambda\n",
    "\n",
    "\n",
    "xgbr = XGBClassifier(scale_pos_weight=4)\n",
    "# xgbr = XGBClassifier()\n",
    "xgbr.fit(X_train, y_train)\n",
    "y_pred = xgbr.predict(X_val)\n",
    "print(metrics.f1_score(y_val.values, y_pred)) "
   ]
  },
  {
   "cell_type": "code",
   "execution_count": 36,
   "metadata": {},
   "outputs": [],
   "source": [
    "# for i in range(6,1,-1):\n",
    "#     print(i)\n",
    "#     xgbr = XGBClassifier(scale_pos_weight=i)\n",
    "#     # xgbr = XGBClassifier()\n",
    "#     xgbr.fit(X_train, y_train)\n",
    "#     y_pred = xgbr.predict(X_val)\n",
    "#     print(metrics.f1_score(y_val.values, y_pred)) "
   ]
  },
  {
   "cell_type": "code",
   "execution_count": 23,
   "metadata": {},
   "outputs": [],
   "source": [
    "# from lightgbm import LGBMClassifier\n",
    "# lgbr = LGBMClassifier() \n",
    "# #     lgbr1 = LGBMClassifier(learning_rate=0.01,reg_alpha=1,max_depth=6,min_child_weight=4) \n",
    "# lgbr.fit(X_train, y_train)"
   ]
  },
  {
   "cell_type": "code",
   "execution_count": 24,
   "metadata": {},
   "outputs": [],
   "source": [
    "# from catboost import CatBoostClassifier\n",
    "# cgbr = CatBoostClassifier(iterations=250,depth=5,learning_rate=0.01,l2_leaf_reg=1)\n",
    "# cgbr.fit(X_train, y_train)"
   ]
  },
  {
   "cell_type": "code",
   "execution_count": 40,
   "metadata": {},
   "outputs": [],
   "source": [
    "# 模型评价\n",
    "from sklearn.metrics import accuracy_score\n",
    "from sklearn import metrics\n",
    "from sklearn.metrics import classification_report\n",
    "from sklearn.metrics import confusion_matrix "
   ]
  },
  {
   "cell_type": "code",
   "execution_count": 41,
   "metadata": {},
   "outputs": [
    {
     "name": "stdout",
     "output_type": "stream",
     "text": [
      "0.44002921840759673\n",
      "             precision    recall  f1-score   support\n",
      "\n",
      "          0       0.96      0.94      0.95     41974\n",
      "          1       0.39      0.50      0.44      3026\n",
      "\n",
      "avg / total       0.92      0.91      0.92     45000\n",
      "\n"
     ]
    },
    {
     "name": "stderr",
     "output_type": "stream",
     "text": [
      "D:\\Users\\DELL\\Anaconda3\\lib\\site-packages\\sklearn\\preprocessing\\label.py:151: DeprecationWarning: The truth value of an empty array is ambiguous. Returning False, but in future this will result in an error. Use `array.size > 0` to check that an array is not empty.\n",
      "  if diff:\n"
     ]
    }
   ],
   "source": [
    "y_pred = xgbr.predict(X_val)\n",
    "print(metrics.f1_score(y_val.values, y_pred)) \n",
    "print(classification_report(y_val.values, y_pred))"
   ]
  },
  {
   "cell_type": "code",
   "execution_count": 21,
   "metadata": {},
   "outputs": [
    {
     "name": "stdout",
     "output_type": "stream",
     "text": [
      "0.38064688585939593\n",
      "             precision    recall  f1-score   support\n",
      "\n",
      "          0       0.98      0.86      0.91     41974\n",
      "          1       0.26      0.71      0.38      3026\n",
      "\n",
      "avg / total       0.93      0.85      0.88     45000\n",
      "\n"
     ]
    },
    {
     "name": "stderr",
     "output_type": "stream",
     "text": [
      "D:\\Users\\DELL\\Anaconda3\\lib\\site-packages\\sklearn\\preprocessing\\label.py:151: DeprecationWarning: The truth value of an empty array is ambiguous. Returning False, but in future this will result in an error. Use `array.size > 0` to check that an array is not empty.\n",
      "  if diff:\n"
     ]
    }
   ],
   "source": [
    "y_pred = xgbr.predict(X_val)\n",
    "print(metrics.f1_score(y_val.values, y_pred)) \n",
    "print(classification_report(y_val.values, y_pred))"
   ]
  },
  {
   "cell_type": "code",
   "execution_count": 293,
   "metadata": {},
   "outputs": [],
   "source": [
    "# 模型预测结果融合\n",
    "Id_pred=pd.DataFrame()\n",
    "Id_pred['pred_xgbr_proba'] = xgbr.predict_proba(X_val)[:, 1]\n",
    "Id_pred['pred_xgbr'] = Id_pred['pred_xgbr_proba'].map(lambda x:1 if x>0.5 else 0)\n",
    "\n",
    "y_pred = Id_pred['pred_xgbr']"
   ]
  },
  {
   "cell_type": "code",
   "execution_count": 220,
   "metadata": {},
   "outputs": [
    {
     "name": "stdout",
     "output_type": "stream",
     "text": [
      "0.2582385816149547\n",
      "0.5726495726495726\n",
      "0.16670813635232645\n"
     ]
    }
   ],
   "source": [
    "# F-measure的含义是：用precision和recall两个指标不直观（任性），\n",
    "# 索性把他们合并为一个，这就是F-measure（越大越好，1为理想状态，此时precision为1，recall为1）\n",
    "\n",
    "print(metrics.f1_score(y_val.values, y_pred)) \n",
    "# print(accuracy_score(y_val.values, y_pred)) # ACC\n",
    "print(metrics.precision_score(y_val.values, y_pred))  #  精确率\n",
    "print(metrics.recall_score(y_val.values, y_pred))  #  精确率\n",
    "# print(confusion_matrix(y_val.values, y_pred))"
   ]
  },
  {
   "cell_type": "code",
   "execution_count": null,
   "metadata": {},
   "outputs": [],
   "source": [
    "# 模型预测结果融合\n",
    "Id_pred=pd.DataFrame()\n",
    "Id_pred['CustomerID'] = X_test_df_index\n",
    "\n",
    "Id_pred['pred_xgbr']=xgbr.predict(X_test)\n",
    "# Id_pred['pred_lgbr']=lgbr.predict(X_test)\n",
    "# Id_pred['pred_cgbr']=cgbr.predict(X_test)\n",
    "\n",
    "Id_pred['SeriousDlqin2yrs'] = Id_pred['pred_xgbr']\n",
    "del Id_pred['pred_xgbr']\n",
    "# Id_pred['SeriousDlqin2yrs']= 0.5*Id_pred['pred_xgbr']+ 0.5*Id_pred['pred_xgbr']\n",
    "# del Id_pred['pred_xgbr'],Id_pred['pred_lgbr']\n",
    "Id_pred.to_csv(\"./submit/XXX_results_b.csv\",index=None)"
   ]
  }
 ],
 "metadata": {
  "kernelspec": {
   "display_name": "Python 3",
   "language": "python",
   "name": "python3"
  },
  "language_info": {
   "codemirror_mode": {
    "name": "ipython",
    "version": 3
   },
   "file_extension": ".py",
   "mimetype": "text/x-python",
   "name": "python",
   "nbconvert_exporter": "python",
   "pygments_lexer": "ipython3",
   "version": "3.6.4"
  }
 },
 "nbformat": 4,
 "nbformat_minor": 2
}
