{
 "cells": [
  {
   "cell_type": "code",
   "execution_count": 20,
   "metadata": {},
   "outputs": [
    {
     "name": "stdout",
     "output_type": "stream",
     "text": [
      "3.5374756199498467 23.208971858456394\n",
      "y = 23.208971858456394 + 3.5374756199498467*x\n"
     ]
    }
   ],
   "source": [
    "import pandas as pd\n",
    "import numpy as np\n",
    "\n",
    "df =pd.DataFrame()\n",
    "df['x'] = [3, 8, 9, 13, 3,6,11,21,1,16]\n",
    "df['y'] = [30, 57, 64, 72, 36,43,59,90,20,83]\n",
    "x = df['x']\n",
    "y = df['y']\n",
    "# x = np.array([3, 8, 9, 13, 3,6,11,21,1,16]).reshape(-1, 1)\n",
    "# y = np.array([30, 57, 64, 72, 36,43,59,90,20,83]).reshape(-1, 1) \n",
    "bata = np.sum((x - x.mean())*(y - y.mean()))/np.sum((x - x.mean())**2)\n",
    "alpha = y.mean() - bata * x.mean()\n",
    "print(bata,alpha )\n",
    "print(f'y = {alpha} + {bata}*x')"
   ]
  },
  {
   "cell_type": "code",
   "execution_count": 25,
   "metadata": {},
   "outputs": [
    {
     "data": {
      "text/plain": [
       "0.9721285344685927"
      ]
     },
     "execution_count": 25,
     "metadata": {},
     "output_type": "execute_result"
    }
   ],
   "source": [
    "df['x'].corr(df['y'])"
   ]
  },
  {
   "cell_type": "code",
   "execution_count": 26,
   "metadata": {},
   "outputs": [
    {
     "data": {
      "text/plain": [
       "0.9721285344685927"
      ]
     },
     "execution_count": 26,
     "metadata": {},
     "output_type": "execute_result"
    }
   ],
   "source": [
    "x.corr(y)"
   ]
  },
  {
   "cell_type": "code",
   "execution_count": 50,
   "metadata": {},
   "outputs": [],
   "source": [
    "import numpy as np\n",
    "data1 = pd.DataFrame({'天气':['晴','晴','阴','雨','雨','雨','阴','晴','晴','雨','晴','阴','阴','雨'],\n",
    "                     '温度':['高','高','高','低','低','低','低','低','低','低','低','低','高','低'],\n",
    "                     '湿度':['高','低','高','高','高','低','低','高','低','高','低','高','低','高'],\n",
    "                     '起风':[False,True,False,False,False,True,True,False,False,False,True,True,False,True],\n",
    "                     '打球':['NO','NO','YES','YES','YES','NO','YES','NO','YES','YES','YES','YES','YES','NO']})\n",
    "# data1[['天气','温度','湿度','起风','打球']]\n",
    "\n",
    "# 条件信息熵\n",
    "def ent(data):\n",
    "    prob1 = pd.value_counts(data) / len(data)\n",
    "    return sum(np.log2(prob1) * prob1 * (-1))\n",
    "\n",
    "# 定义计算信息增益的函数\n",
    "def gain(data,str1,str2):\n",
    "    e1 = data.groupby(str1).apply(lambda x:ent(x[str2]))\n",
    "    p1 = pd.value_counts(data[str1]) / len(data[str1])\n",
    "    e2 = sum(e1 * p1)\n",
    "    return ent(data[str2]) - e2"
   ]
  },
  {
   "cell_type": "code",
   "execution_count": 47,
   "metadata": {},
   "outputs": [
    {
     "data": {
      "text/plain": [
       "0.9402859586706311"
      ]
     },
     "execution_count": 47,
     "metadata": {},
     "output_type": "execute_result"
    }
   ],
   "source": [
    "ent(data1['打球'])"
   ]
  },
  {
   "cell_type": "code",
   "execution_count": 48,
   "metadata": {},
   "outputs": [
    {
     "data": {
      "text/plain": [
       "0.24674981977443933"
      ]
     },
     "execution_count": 48,
     "metadata": {},
     "output_type": "execute_result"
    }
   ],
   "source": [
    "gain(data1,'打球','天气')"
   ]
  },
  {
   "cell_type": "code",
   "execution_count": 5,
   "metadata": {},
   "outputs": [
    {
     "name": "stdout",
     "output_type": "stream",
     "text": [
      "0.9402859586706309\n"
     ]
    }
   ],
   "source": [
    "from math import log  \n",
    "  \n",
    "def I(*args):  \n",
    "    total = sum(args) + 0.0  \n",
    "    result = 0.0  \n",
    "    for i in args:  \n",
    "        if i == 0:  \n",
    "            result += 0  \n",
    "        else:  \n",
    "            result += i / total * log( i / total, 2)  \n",
    "    return -result  \n",
    "  \n",
    "#num表示分类的个数  \n",
    "def E(num, *args):  \n",
    "    if len(args) % num != 0:  \n",
    "        print (\"Error len(args)\")  \n",
    "    result = 0.0  \n",
    "    total = sum(args)  \n",
    "    for x in range(len(args) / num):  \n",
    "        k = x * num  \n",
    "        total_up = 0.0 + sum(args[k:k + num])  \n",
    "        result += total_up / total * I(*args[k:k + num])  \n",
    "    return result  \n",
    "  \n",
    "def Gain(i, e):  \n",
    "    return i - e  \n",
    "  \n",
    "#取个别名  \n",
    "i = I  \n",
    "e = E  \n",
    "g = Gain  \n",
    "  \n",
    "if __name__ == \"__main__\":  \n",
    "    #for example  \n",
    "    print (i(9, 5) ) \n",
    "#     print (e(2, 2, 3, 4, 0, 3, 2))  "
   ]
  },
  {
   "cell_type": "code",
   "execution_count": 6,
   "metadata": {},
   "outputs": [
    {
     "data": {
      "text/plain": [
       "0.9402859586706309"
      ]
     },
     "execution_count": 6,
     "metadata": {},
     "output_type": "execute_result"
    }
   ],
   "source": [
    "i(9, 5)"
   ]
  },
  {
   "cell_type": "code",
   "execution_count": 7,
   "metadata": {},
   "outputs": [
    {
     "data": {
      "text/plain": [
       "0.9709505944546686"
      ]
     },
     "execution_count": 7,
     "metadata": {},
     "output_type": "execute_result"
    }
   ],
   "source": [
    "i(2, 3)"
   ]
  },
  {
   "cell_type": "code",
   "execution_count": 8,
   "metadata": {},
   "outputs": [
    {
     "data": {
      "text/plain": [
       "-0.0"
      ]
     },
     "execution_count": 8,
     "metadata": {},
     "output_type": "execute_result"
    }
   ],
   "source": [
    "i(4, 0)"
   ]
  },
  {
   "cell_type": "code",
   "execution_count": 9,
   "metadata": {},
   "outputs": [
    {
     "data": {
      "text/plain": [
       "0.9709505944546686"
      ]
     },
     "execution_count": 9,
     "metadata": {},
     "output_type": "execute_result"
    }
   ],
   "source": [
    "i(3, 2)"
   ]
  },
  {
   "cell_type": "code",
   "execution_count": null,
   "metadata": {},
   "outputs": [],
   "source": []
  }
 ],
 "metadata": {
  "kernelspec": {
   "display_name": "Python 3",
   "language": "python",
   "name": "python3"
  },
  "language_info": {
   "codemirror_mode": {
    "name": "ipython",
    "version": 3
   },
   "file_extension": ".py",
   "mimetype": "text/x-python",
   "name": "python",
   "nbconvert_exporter": "python",
   "pygments_lexer": "ipython3",
   "version": "3.7.3"
  }
 },
 "nbformat": 4,
 "nbformat_minor": 2
}
