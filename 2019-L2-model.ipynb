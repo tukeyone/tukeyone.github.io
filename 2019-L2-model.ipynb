{
 "cells": [
  {
   "cell_type": "code",
   "execution_count": 7,
   "metadata": {},
   "outputs": [],
   "source": [
    "%matplotlib inline\n",
    "import numpy as np\n",
    "import pandas as pd\n",
    "import datetime  \n",
    "from sklearn.metrics import accuracy_score\n",
    "from sklearn import metrics\n",
    "from sklearn.metrics import classification_report\n",
    "from sklearn.metrics import confusion_matrix "
   ]
  },
  {
   "cell_type": "markdown",
   "metadata": {},
   "source": [
    "#### 1、数据预处理"
   ]
  },
  {
   "cell_type": "code",
   "execution_count": 8,
   "metadata": {},
   "outputs": [],
   "source": [
    "path_train_1 = \"./data/Train15p.csv\"  # 训练文件1\n",
    "path_train_2 = \"./data/Train85p.csv\"  # 训练文件2\n",
    "path_test = \"./data/Test.csv\"         # 测试文件"
   ]
  },
  {
   "cell_type": "code",
   "execution_count": 9,
   "metadata": {},
   "outputs": [],
   "source": [
    "df_train_1 = pd.read_csv(path_train_1)"
   ]
  },
  {
   "cell_type": "code",
   "execution_count": 10,
   "metadata": {},
   "outputs": [
    {
     "data": {
      "text/plain": [
       " False    515\n",
       " True      85\n",
       "Name: Churn, dtype: int64"
      ]
     },
     "execution_count": 10,
     "metadata": {},
     "output_type": "execute_result"
    }
   ],
   "source": [
    "df_train_1.Churn.value_counts()"
   ]
  },
  {
   "cell_type": "code",
   "execution_count": 16,
   "metadata": {},
   "outputs": [],
   "source": [
    "def prod_trian_data_1(path):\n",
    "    \"\"\"\n",
    "    处理训练数据集1\n",
    "    :return: \n",
    "    \"\"\"\n",
    "    df = pd.read_csv(path)\n",
    "    df =df.loc[:,[ 'account_length', 'international_plan', 'voice_mail_plan', 'number_vmail_messages',\n",
    "           'total_day_minutes', 'total_day_calls', 'total_day_charge',\n",
    "           'total_eve_minutes', 'total_eve_calls', 'total_eve_charge',\n",
    "           'total_night_minutes', 'total_night_calls', 'total_night_charge',\n",
    "           'total_intl_minutes', 'total_intl_calls', 'total_intl_charge','Churn']]\n",
    "    df['international_plan'] = df['international_plan'].map(lambda x:1 if x==' yes' else 0)\n",
    "    df['voice_mail_plan'] = df['voice_mail_plan'].map(lambda x:1 if x==' yes' else 0)\n",
    "    df['Churn'] = df['Churn'].map(lambda x:1 if x==' True' else 0)\n",
    "    \n",
    "    data_train = df\n",
    "    \n",
    "    from sklearn.model_selection import train_test_split\n",
    "    X = data_train.iloc[:, :-1]\n",
    "    y = data_train.iloc[:,-1]\n",
    "\n",
    "    X_train, X_val, y_train, y_val = train_test_split(X, y, test_size=0.4, random_state=8)\n",
    "\n",
    "#     df_train = pd.concat([y_train, X_train], axis=1)\n",
    "#     df_val = pd.concat([y_val, X_val], axis=1)\n",
    "    return X_train, X_val, y_train, y_val,data_train"
   ]
  },
  {
   "cell_type": "code",
   "execution_count": 17,
   "metadata": {},
   "outputs": [],
   "source": [
    "def prod_trian_data_2(path):\n",
    "    \"\"\"\n",
    "    处理训练数据集2\n",
    "    \"\"\"\n",
    "    df = pd.read_csv(path)\n",
    "    df =df.loc[:,[ 'account_length', 'international_plan', 'voice_mail_plan', 'number_vmail_messages',\n",
    "           'total_day_minutes', 'total_day_calls', 'total_day_charge',\n",
    "           'total_eve_minutes', 'total_eve_calls', 'total_eve_charge',\n",
    "           'total_night_minutes', 'total_night_calls', 'total_night_charge',\n",
    "           'total_intl_minutes', 'total_intl_calls', 'total_intl_charge']]\n",
    "    df['international_plan'] = df['international_plan'].map(lambda x:1 if x==' yes' else 0)\n",
    "    df['voice_mail_plan'] = df['voice_mail_plan'].map(lambda x:1 if x==' yes' else 0)\n",
    "     \n",
    "    X_test =df\n",
    "    \n",
    "    return df"
   ]
  },
  {
   "cell_type": "code",
   "execution_count": 18,
   "metadata": {},
   "outputs": [],
   "source": [
    "X_train, X_val, y_train, y_val,data_train = prod_trian_data_1(path_train_1)"
   ]
  },
  {
   "cell_type": "code",
   "execution_count": 27,
   "metadata": {},
   "outputs": [
    {
     "data": {
      "text/plain": [
       "0    314\n",
       "1     46\n",
       "Name: Churn, dtype: int64"
      ]
     },
     "execution_count": 27,
     "metadata": {},
     "output_type": "execute_result"
    }
   ],
   "source": [
    "y_train.value_counts()"
   ]
  },
  {
   "cell_type": "code",
   "execution_count": 19,
   "metadata": {},
   "outputs": [],
   "source": [
    "X_train_2= prod_trian_data_2(path_train_2)"
   ]
  },
  {
   "cell_type": "markdown",
   "metadata": {},
   "source": [
    "#### 2、建模"
   ]
  },
  {
   "cell_type": "code",
   "execution_count": 22,
   "metadata": {},
   "outputs": [
    {
     "name": "stdout",
     "output_type": "stream",
     "text": [
      "0.2978723404255319\n",
      "             precision    recall  f1-score   support\n",
      "\n",
      "          0       0.86      1.00      0.92       201\n",
      "          1       0.88      0.18      0.30        39\n",
      "\n",
      "avg / total       0.86      0.86      0.82       240\n",
      "\n"
     ]
    },
    {
     "name": "stderr",
     "output_type": "stream",
     "text": [
      "D:\\Users\\DELL\\Anaconda3\\lib\\site-packages\\sklearn\\preprocessing\\label.py:151: DeprecationWarning: The truth value of an empty array is ambiguous. Returning False, but in future this will result in an error. Use `array.size > 0` to check that an array is not empty.\n",
      "  if diff:\n",
      "D:\\Users\\DELL\\Anaconda3\\lib\\site-packages\\sklearn\\preprocessing\\label.py:151: DeprecationWarning: The truth value of an empty array is ambiguous. Returning False, but in future this will result in an error. Use `array.size > 0` to check that an array is not empty.\n",
      "  if diff:\n"
     ]
    }
   ],
   "source": [
    "# 模型建立 xgboost\n",
    "from xgboost import XGBClassifier\n",
    "xgbr = XGBClassifier()\n",
    "xgbr.fit(X_train, y_train)\n",
    "y_pred = xgbr.predict(X_val)\n",
    "print(metrics.f1_score(y_val.values, y_pred)) \n",
    "print(classification_report(y_val.values,y_pred))\n",
    "y_pred_train_2 = xgbr.predict(X_train_2)"
   ]
  },
  {
   "cell_type": "code",
   "execution_count": 20,
   "metadata": {},
   "outputs": [
    {
     "name": "stdout",
     "output_type": "stream",
     "text": [
      "0.36666666666666664\n",
      "             precision    recall  f1-score   support\n",
      "\n",
      "          0       0.87      0.95      0.91       201\n",
      "          1       0.52      0.28      0.37        39\n",
      "\n",
      "avg / total       0.82      0.84      0.82       240\n",
      "\n"
     ]
    },
    {
     "name": "stderr",
     "output_type": "stream",
     "text": [
      "D:\\Users\\DELL\\Anaconda3\\lib\\site-packages\\sklearn\\preprocessing\\label.py:151: DeprecationWarning: The truth value of an empty array is ambiguous. Returning False, but in future this will result in an error. Use `array.size > 0` to check that an array is not empty.\n",
      "  if diff:\n",
      "D:\\Users\\DELL\\Anaconda3\\lib\\site-packages\\sklearn\\preprocessing\\label.py:151: DeprecationWarning: The truth value of an empty array is ambiguous. Returning False, but in future this will result in an error. Use `array.size > 0` to check that an array is not empty.\n",
      "  if diff:\n"
     ]
    }
   ],
   "source": [
    "# 模型调参 xgboost\n",
    "from xgboost import XGBClassifier\n",
    "xgbr = XGBClassifier(scale_pos_weight=6)\n",
    "xgbr.fit(X_train, y_train)\n",
    "y_pred = xgbr.predict(X_val)\n",
    "print(metrics.f1_score(y_val.values, y_pred)) \n",
    "print(classification_report(y_val.values,y_pred))\n",
    "y_pred_train_2 = xgbr.predict(X_train_2)"
   ]
  },
  {
   "cell_type": "markdown",
   "metadata": {},
   "source": [
    "#### 3 、预测"
   ]
  },
  {
   "cell_type": "code",
   "execution_count": 17,
   "metadata": {},
   "outputs": [
    {
     "data": {
      "text/plain": [
       "0    3293\n",
       "1     467\n",
       "Name: Churn, dtype: int64"
      ]
     },
     "execution_count": 17,
     "metadata": {},
     "output_type": "execute_result"
    }
   ],
   "source": [
    "X_train_2['Churn'] = y_pred_train_2\n",
    "X_train['Churn'] = y_train\n",
    "\n",
    "data_train = pd.concat([X_train,X_train_2],axis=0)\n",
    "data_train['Churn'] .value_counts()"
   ]
  },
  {
   "cell_type": "code",
   "execution_count": 19,
   "metadata": {},
   "outputs": [],
   "source": [
    "from sklearn.model_selection import train_test_split\n",
    "X = data_train.iloc[:, :-1]\n",
    "y = data_train.iloc[:,-1]\n",
    "X_train, X_val, y_train, y_val = train_test_split(X, y, test_size=0.25, random_state=8)"
   ]
  },
  {
   "cell_type": "code",
   "execution_count": 20,
   "metadata": {},
   "outputs": [],
   "source": [
    "def prod_test_data(path):\n",
    "\n",
    "    \"\"\"\n",
    "    处理测试集\n",
    "    :return: \n",
    "    \"\"\"\n",
    "    df = pd.read_csv(path)\n",
    "    \n",
    "    X_test_df_index = df['id']\n",
    "    df =df.loc[:,[ 'account_length', 'international_plan', 'voice_mail_plan', 'number_vmail_messages',\n",
    "           'total_day_minutes', 'total_day_calls', 'total_day_charge',\n",
    "           'total_eve_minutes', 'total_eve_calls', 'total_eve_charge',\n",
    "           'total_night_minutes', 'total_night_calls', 'total_night_charge',\n",
    "           'total_intl_minutes', 'total_intl_calls', 'total_intl_charge']]\n",
    "    df['international_plan'] = df['international_plan'].map(lambda x:1 if x==' yes' else 0)\n",
    "    df['voice_mail_plan'] = df['voice_mail_plan'].map(lambda x:1 if x==' yes' else 0)\n",
    "    \n",
    "    data_test = df    \n",
    "    X_test = data_test.iloc[:,:]\n",
    "\n",
    "    \n",
    "    return X_test,X_test_df_index"
   ]
  },
  {
   "cell_type": "code",
   "execution_count": 21,
   "metadata": {},
   "outputs": [],
   "source": [
    "X_test,X_test_df_index= prod_test_data(path_test)"
   ]
  },
  {
   "cell_type": "code",
   "execution_count": 59,
   "metadata": {},
   "outputs": [
    {
     "name": "stdout",
     "output_type": "stream",
     "text": [
      "0.7373737373737372\n",
      "             precision    recall  f1-score   support\n",
      "\n",
      "          0       0.96      0.98      0.97       834\n",
      "          1       0.79      0.69      0.74       106\n",
      "\n",
      "avg / total       0.94      0.94      0.94       940\n",
      "\n"
     ]
    },
    {
     "name": "stderr",
     "output_type": "stream",
     "text": [
      "D:\\Users\\DELL\\Anaconda3\\lib\\site-packages\\sklearn\\preprocessing\\label.py:151: DeprecationWarning: The truth value of an empty array is ambiguous. Returning False, but in future this will result in an error. Use `array.size > 0` to check that an array is not empty.\n",
      "  if diff:\n"
     ]
    }
   ],
   "source": [
    "# 模型\n",
    "from xgboost import XGBClassifier\n",
    "# class_weight = dict({0:14, 1:1})\n",
    "# sample_weight = pd.DataFrame(y_train)['SeriousDlqin2yrs'].map(lambda x:0.99 if x==1 else 0.01)\n",
    "# alpha\n",
    "#     L1正则化系数，默认为1\n",
    "# lambda\n",
    "\n",
    "\n",
    "xgbr = XGBClassifier(scale_pos_weight=2)\n",
    "# xgbr = XGBClassifier()\n",
    "xgbr.fit(X_train, y_train)\n",
    "y_pred = xgbr.predict(X_val)\n",
    "print(metrics.f1_score(y_val.values, y_pred)) \n",
    "print(classification_report(y_val.values, y_pred))"
   ]
  },
  {
   "cell_type": "code",
   "execution_count": 26,
   "metadata": {},
   "outputs": [],
   "source": [
    "# from catboost import CatBoostClassifier\n",
    "# cgbr = CatBoostClassifier(iterations=250,depth=5,learning_rate=0.01,l2_leaf_reg=1)\n",
    "# cgbr.fit(X_train, y_train)"
   ]
  },
  {
   "cell_type": "code",
   "execution_count": 56,
   "metadata": {},
   "outputs": [
    {
     "name": "stderr",
     "output_type": "stream",
     "text": [
      "D:\\Users\\DELL\\Anaconda3\\lib\\site-packages\\sklearn\\preprocessing\\label.py:151: DeprecationWarning: The truth value of an empty array is ambiguous. Returning False, but in future this will result in an error. Use `array.size > 0` to check that an array is not empty.\n",
      "  if diff:\n"
     ]
    }
   ],
   "source": [
    "# 模型预测结果融合\n",
    "Id_pred=pd.DataFrame()\n",
    "Id_pred['ID'] = X_test_df_index\n",
    "\n",
    "Id_pred['pred_xgbr']=xgbr.predict(X_test)\n",
    "# Id_pred['pred_lgbr']=lgbr.predict(X_test)\n",
    "# Id_pred['pred_cgbr']=cgbr.predict(X_test)\n",
    "\n",
    "Id_pred['Predicted_Results'] = Id_pred['pred_xgbr']\n",
    "Id_pred['Predicted_Results'] = Id_pred['Predicted_Results'].map(lambda x: 'True' if x==1 else 'False' )\n",
    "del Id_pred['pred_xgbr']\n",
    "\n",
    "Id_pred.to_csv(\"./submit/XXX_results.csv\",index=None)"
   ]
  },
  {
   "cell_type": "code",
   "execution_count": 57,
   "metadata": {},
   "outputs": [
    {
     "data": {
      "text/plain": [
       "False    909\n",
       "True      91\n",
       "Name: Predicted_Results, dtype: int64"
      ]
     },
     "execution_count": 57,
     "metadata": {},
     "output_type": "execute_result"
    }
   ],
   "source": [
    "Id_pred.Predicted_Results.value_counts()"
   ]
  }
 ],
 "metadata": {
  "kernelspec": {
   "display_name": "Python 3",
   "language": "python",
   "name": "python3"
  },
  "language_info": {
   "codemirror_mode": {
    "name": "ipython",
    "version": 3
   },
   "file_extension": ".py",
   "mimetype": "text/x-python",
   "name": "python",
   "nbconvert_exporter": "python",
   "pygments_lexer": "ipython3",
   "version": "3.7.6"
  }
 },
 "nbformat": 4,
 "nbformat_minor": 4
}
